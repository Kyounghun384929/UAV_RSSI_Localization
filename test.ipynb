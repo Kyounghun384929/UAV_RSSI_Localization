{
 "cells": [
  {
   "cell_type": "code",
   "execution_count": 33,
   "metadata": {},
   "outputs": [],
   "source": [
    "import numpy as np\n"
   ]
  },
  {
   "cell_type": "code",
   "execution_count": 34,
   "metadata": {},
   "outputs": [],
   "source": [
    "Gobjects = []\n",
    "Lx = 900\n",
    "Ly = 700\n",
    "num_objects = 10\n",
    "for i in range(num_objects):\n",
    "    object = {\n",
    "        'id': i,\n",
    "        'x': round(np.random.uniform(0, Lx)),\n",
    "        'y': round(np.random.uniform(0, Ly)),\n",
    "        'vx': round(np.random.normal(0, 1.5)),\n",
    "        'vy': round(np.random.normal(0, 1.5))\n",
    "    }\n",
    "    Gobjects.append(object)"
   ]
  },
  {
   "cell_type": "code",
   "execution_count": 35,
   "metadata": {},
   "outputs": [
    {
     "data": {
      "text/plain": [
       "[{'id': 0, 'x': 761, 'y': 644, 'vx': -1, 'vy': 1},\n",
       " {'id': 1, 'x': 422, 'y': 476, 'vx': 1, 'vy': 0},\n",
       " {'id': 2, 'x': 646, 'y': 399, 'vx': 2, 'vy': 4},\n",
       " {'id': 3, 'x': 692, 'y': 567, 'vx': 1, 'vy': -4},\n",
       " {'id': 4, 'x': 866, 'y': 69, 'vx': 0, 'vy': 1},\n",
       " {'id': 5, 'x': 635, 'y': 657, 'vx': 2, 'vy': -1},\n",
       " {'id': 6, 'x': 815, 'y': 278, 'vx': -1, 'vy': 0},\n",
       " {'id': 7, 'x': 406, 'y': 570, 'vx': 1, 'vy': -1},\n",
       " {'id': 8, 'x': 252, 'y': 373, 'vx': 0, 'vy': 2},\n",
       " {'id': 9, 'x': 222, 'y': 185, 'vx': 0, 'vy': 1}]"
      ]
     },
     "execution_count": 35,
     "metadata": {},
     "output_type": "execute_result"
    }
   ],
   "source": [
    "Gobjects"
   ]
  },
  {
   "cell_type": "code",
   "execution_count": 41,
   "metadata": {},
   "outputs": [],
   "source": [
    "step = 5\n",
    "for obj in Gobjects:\n",
    "    obj[f'Aps_{step}'] = (10, 20, -80)"
   ]
  },
  {
   "cell_type": "code",
   "execution_count": 58,
   "metadata": {},
   "outputs": [
    {
     "data": {
      "text/plain": [
       "(10, 20, -80, 0)"
      ]
     },
     "execution_count": 58,
     "metadata": {},
     "output_type": "execute_result"
    }
   ],
   "source": [
    "Gobjects[0][list(Gobjects[0].keys())[-3]]"
   ]
  },
  {
   "cell_type": "code",
   "execution_count": null,
   "metadata": {},
   "outputs": [],
   "source": []
  }
 ],
 "metadata": {
  "kernelspec": {
   "display_name": "Python 3",
   "language": "python",
   "name": "python3"
  },
  "language_info": {
   "codemirror_mode": {
    "name": "ipython",
    "version": 3
   },
   "file_extension": ".py",
   "mimetype": "text/x-python",
   "name": "python",
   "nbconvert_exporter": "python",
   "pygments_lexer": "ipython3",
   "version": "3.10.9"
  }
 },
 "nbformat": 4,
 "nbformat_minor": 2
}
