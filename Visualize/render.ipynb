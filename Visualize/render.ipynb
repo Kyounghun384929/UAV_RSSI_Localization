{
 "cells": [
  {
   "cell_type": "code",
   "execution_count": null,
   "metadata": {},
   "outputs": [],
   "source": [
    "import seaborn as sns\n",
    "import matplotlib.pyplot as plt\n",
    "import json\n",
    "import numpy as np\n",
    "import altair as alt\n",
    "import pandas as pd\n",
    "\n",
    "def visualize_q_table(filename=\"../q_table.json\"):\n",
    "    \"\"\"\n",
    "    JSON 파일에서 Q-table을 불러와 히트맵으로 시각화합니다.\n",
    "    \"\"\"\n",
    "    with open(filename, \"r\") as f:\n",
    "        q_table = np.array(json.load(f))\n",
    "\n",
    "    plt.figure(figsize=(10, 8))\n",
    "    sns.heatmap(q_table, annot=True, fmt=\".2f\", cmap=\"YlGnBu\")\n",
    "    plt.xlabel(\"Actions\")\n",
    "    plt.ylabel(\"States\")\n",
    "    plt.title(\"Q-table Heatmap\")\n",
    "    plt.show()\n",
    "\n",
    "def visualize_json(filename, title):\n",
    "    \"\"\"JSON 파일을 읽어와 Altair 차트를 생성하고 표시합니다.\"\"\"\n",
    "    with open(filename, 'r') as f:\n",
    "        data = json.load(f)\n",
    "\n",
    "    key = list(data['datasets'].keys())[0]\n",
    "    df = pd.DataFrame(data['datasets'][key])\n",
    "    df.columns = ['episode', title.lower()]  # 컬럼명 설정\n",
    "\n",
    "    chart = alt.Chart(df).mark_line(point=True).encode(\n",
    "        x=alt.X('episode:Q', title='Episode'),\n",
    "        y=alt.Y(f'{title.lower()}:Q', title=title),\n",
    "        tooltip=['episode', title.lower()]\n",
    "    ).properties(title=title).interactive()\n",
    "\n",
    "    return chart"
   ]
  },
  {
   "cell_type": "code",
   "execution_count": null,
   "metadata": {},
   "outputs": [],
   "source": [
    "# JSON 파일 경로 설정 (실제 경로로 변경해야 합니다)\n",
    "localization_error_file = '../localization_error_per_episode.json'\n",
    "path_length_file = '../path_length_per_episode.json'\n",
    "reward_file = '../reward_per_episode.json'"
   ]
  },
  {
   "cell_type": "code",
   "execution_count": null,
   "metadata": {},
   "outputs": [],
   "source": [
    "# 차트 생성 및 표시\n",
    "chart1 = visualize_json(localization_error_file, 'Localization Error')\n",
    "chart2 = visualize_json(path_length_file, 'Path Length')\n",
    "chart3 = visualize_json(reward_file, 'Reward')\n",
    "\n",
    "chart1.show()"
   ]
  },
  {
   "cell_type": "code",
   "execution_count": null,
   "metadata": {},
   "outputs": [],
   "source": [
    "chart2.show()"
   ]
  },
  {
   "cell_type": "code",
   "execution_count": null,
   "metadata": {},
   "outputs": [],
   "source": [
    "chart3.show()"
   ]
  },
  {
   "cell_type": "code",
   "execution_count": null,
   "metadata": {},
   "outputs": [],
   "source": [
    "visualize_q_table()"
   ]
  }
 ],
 "metadata": {
  "kernelspec": {
   "display_name": "Python 3",
   "language": "python",
   "name": "python3"
  },
  "language_info": {
   "codemirror_mode": {
    "name": "ipython",
    "version": 3
   },
   "file_extension": ".py",
   "mimetype": "text/x-python",
   "name": "python",
   "nbconvert_exporter": "python",
   "pygments_lexer": "ipython3",
   "version": "3.10.9"
  }
 },
 "nbformat": 4,
 "nbformat_minor": 2
}
